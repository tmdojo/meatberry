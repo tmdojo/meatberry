{
 "cells": [
  {
   "cell_type": "code",
   "execution_count": 1,
   "metadata": {
    "collapsed": true
   },
   "outputs": [],
   "source": [
    "import sys\n",
    "import time\n",
    "import numpy as np"
   ]
  },
  {
   "cell_type": "code",
   "execution_count": 2,
   "metadata": {
    "collapsed": true
   },
   "outputs": [],
   "source": [
    "from matplotlib import pyplot as plt\n",
    "%matplotlib inline\n",
    "from IPython import display"
   ]
  },
  {
   "cell_type": "code",
   "execution_count": 3,
   "metadata": {
    "collapsed": true
   },
   "outputs": [],
   "source": [
    "import RPi.GPIO as GPIO\n",
    "GPIO.setmode(GPIO.BCM)"
   ]
  },
  {
   "cell_type": "code",
   "execution_count": 4,
   "metadata": {
    "collapsed": true
   },
   "outputs": [],
   "source": [
    "from PID import PID"
   ]
  },
  {
   "cell_type": "code",
   "execution_count": 5,
   "metadata": {
    "collapsed": false
   },
   "outputs": [],
   "source": [
    "RELAY_PIN = 21\n",
    "GPIO.setup(RELAY_PIN, GPIO.OUT)"
   ]
  },
  {
   "cell_type": "code",
   "execution_count": 6,
   "metadata": {
    "collapsed": true
   },
   "outputs": [],
   "source": [
    "DEVICE_ID='28-0000057b4685'\n",
    "DEVICE_FILE='/sys/bus/w1/devices/%s/w1_slave' % (DEVICE_ID)"
   ]
  },
  {
   "cell_type": "code",
   "execution_count": 7,
   "metadata": {
    "collapsed": true
   },
   "outputs": [],
   "source": [
    "DEVICE_ID_rect='28-0000075bcfcf'\n",
    "DEVICE_FILE_rect='/sys/bus/w1/devices/%s/w1_slave' % (DEVICE_ID_rect)"
   ]
  },
  {
   "cell_type": "code",
   "execution_count": 8,
   "metadata": {
    "collapsed": true
   },
   "outputs": [],
   "source": [
    "def read_temp():\n",
    "    try:\n",
    "        with open(DEVICE_FILE) as f:\n",
    "            lines = f.readlines()\n",
    "        temp = lines[1].split('t=')[1]\n",
    "        return float(temp) / 1000\n",
    "    except e:\n",
    "        return -1"
   ]
  },
  {
   "cell_type": "code",
   "execution_count": 9,
   "metadata": {
    "collapsed": true
   },
   "outputs": [],
   "source": [
    "def read_temp_bottom():\n",
    "    try:\n",
    "        with open(DEVICE_FILE_rect) as f:\n",
    "            lines = f.readlines()\n",
    "        temp = lines[1].split('t=')[1]\n",
    "        return float(temp) / 1000\n",
    "    except e:\n",
    "        return -1"
   ]
  },
  {
   "cell_type": "code",
   "execution_count": 10,
   "metadata": {
    "collapsed": false
   },
   "outputs": [],
   "source": [
    "def turn_heater_on():\n",
    "    GPIO.output(RELAY_PIN, GPIO.HIGH)\n",
    "\n",
    "def turn_heater_off():\n",
    "    GPIO.output(RELAY_PIN, GPIO.LOW)"
   ]
  },
  {
   "cell_type": "code",
   "execution_count": 11,
   "metadata": {
    "collapsed": false
   },
   "outputs": [],
   "source": [
    "def get_log_file_name(myEpoc, words=[]):\n",
    "    t = time.strptime(time.ctime(myEpoc))\n",
    "    #return time.strftime('%Y%m%d%H%M%S') + '.csv'\n",
    "    t_string = \"{:04d}{:02d}{:02d}{:02d}{:02d}{:02d}\".format(t.tm_year,t.tm_mon,t.tm_mday,t.tm_hour,t.tm_min,t.tm_sec)\n",
    "    if len(words)>0:\n",
    "        fname = t_string + '_' + '_'.join(words)\n",
    "    else:\n",
    "        fname = t_string\n",
    "    return fname + '.csv'"
   ]
  },
  {
   "cell_type": "code",
   "execution_count": 12,
   "metadata": {
    "collapsed": true
   },
   "outputs": [],
   "source": [
    "def output(power):\n",
    "    '''\n",
    "    powerは0〜1の実数値\n",
    "    '''\n",
    "    #print(\"power: {}\".format(power))\n",
    "    if power > 1:\n",
    "        power = 1\n",
    "    if power < 0:\n",
    "        power = 0\n",
    "    on = power * 10\n",
    "    off = (1 - power) * 10\n",
    "    if on > 0:\n",
    "        turn_heater_on()\n",
    "        #print(\"on: {}\".format(on))\n",
    "        time.sleep(on)\n",
    "    if off > 0:\n",
    "        turn_heater_off()\n",
    "        #print(\"off: {}\".format(off))\n",
    "        time.sleep(off)"
   ]
  },
  {
   "cell_type": "code",
   "execution_count": 13,
   "metadata": {
    "collapsed": false
   },
   "outputs": [
    {
     "data": {
      "text/plain": [
       "27.937"
      ]
     },
     "execution_count": 13,
     "metadata": {},
     "output_type": "execute_result"
    }
   ],
   "source": [
    "read_temp()"
   ]
  },
  {
   "cell_type": "code",
   "execution_count": 14,
   "metadata": {
    "collapsed": false
   },
   "outputs": [],
   "source": [
    "turn_heater_off()"
   ]
  },
  {
   "cell_type": "markdown",
   "metadata": {},
   "source": [
    "# Run"
   ]
  },
  {
   "cell_type": "code",
   "execution_count": 15,
   "metadata": {
    "collapsed": true
   },
   "outputs": [],
   "source": [
    "targetTemperature = 60.0 # target water temperature in degrees C\n",
    "cookTime = 90 # minutes to cook for"
   ]
  },
  {
   "cell_type": "code",
   "execution_count": 16,
   "metadata": {
    "collapsed": true
   },
   "outputs": [],
   "source": [
    "Kp = 2.7\n",
    "Ki = 0.005\n",
    "Kd = 0.001"
   ]
  },
  {
   "cell_type": "code",
   "execution_count": 17,
   "metadata": {
    "collapsed": true
   },
   "outputs": [],
   "source": [
    "pid = PID(Kp, Ki, Kd)"
   ]
  },
  {
   "cell_type": "code",
   "execution_count": 18,
   "metadata": {
    "collapsed": false
   },
   "outputs": [],
   "source": [
    "pid.SetPoint = targetTemperature"
   ]
  },
  {
   "cell_type": "code",
   "execution_count": 19,
   "metadata": {
    "collapsed": false
   },
   "outputs": [
    {
     "name": "stdout",
     "output_type": "stream",
     "text": [
      "Fished cooking!\n",
      "Cooking completed\n"
     ]
    },
    {
     "data": {
      "image/png": "[encoded data removed]",
      "text/plain": [
       "<matplotlib.figure.Figure at 0x6b8c3dd0>"
      ]
     },
     "metadata": {},
     "output_type": "display_data"
    }
   ],
   "source": [
    "fname = get_log_file_name(time.time(), [str(Kp), str(Ki), str(Kd)])\n",
    "start_epoc = time.time()\n",
    "\n",
    "x = []\n",
    "y = []\n",
    "y2 = []\n",
    "pw = []\n",
    "hitTarget = False # flag whether temperature has hit the target once\n",
    "timeForTarget = 0 # seconds took to hit target temperature for the first time\n",
    "fig = plt.figure()\n",
    "while True:\n",
    "    current_temp = read_temp()\n",
    "    #current_temp_bottom = read_temp_bottom()\n",
    "    current_temp_bottom = 0\n",
    "    sec_elapsed = time.time() - start_epoc\n",
    "    # record time to hit target temperature for the fist time\n",
    "    if (not hitTarget) & (current_temp > pid.SetPoint):\n",
    "        hitTarget = True\n",
    "        timeForTarget = sec_elapsed\n",
    "    # break while loop after cooking for the cookTime\n",
    "    if sec_elapsed > (cookTime*60 + timeForTarget):\n",
    "        print(\"Fished cooking!\")\n",
    "        break\n",
    "    pid.update(current_temp)\n",
    "    power = pid.output\n",
    "    P = pid.PTerm\n",
    "    I = pid.Ki * pid.ITerm\n",
    "    D = pid.Kd * pid.DTerm\n",
    "    with open(fname, 'a') as f:\n",
    "        f.write(\",\".join([str(int(sec_elapsed)),str(current_temp),str(power),str(current_temp_bottom),\n",
    "                         str(P), str(I), str(D)])+\"\\n\")\n",
    "    x.append(sec_elapsed)\n",
    "    y.append(current_temp)\n",
    "    y2.append(current_temp_bottom)\n",
    "    pw.append(power)\n",
    "    fig.clear()\n",
    "    ax = fig.add_subplot(111)\n",
    "    ax.plot(np.array(x)/60,y, '-o', label='temperature')\n",
    "    ax.plot(np.array(x)/60,y2, '-^', label='temperature2')\n",
    "    ax.plot(np.array(x)/60,pw, '-*', label='control')\n",
    "    ax.set_xlabel('Elapsed time (min)')\n",
    "    ax.set_ylabel('Temperature (deg. C)')\n",
    "    display.display(fig)\n",
    "    msg = \"Time: {:.2f}(min), Temperature: {:.1f}(deg C), Power: {:.2f}, Temp_bottom: {:.1f}\".format(sec_elapsed/60, current_temp, power, current_temp_bottom)\n",
    "    msg += \", P: {:.2f}, I: {:.2f}, D: {:.2f}\".format(P,I,D)\n",
    "\n",
    "    print(msg)\n",
    "    display.clear_output(wait=True)\n",
    "    output(power)\n",
    "#print(y)\n",
    "print(\"Cooking completed\")"
   ]
  },
  {
   "cell_type": "code",
   "execution_count": null,
   "metadata": {
    "collapsed": true
   },
   "outputs": [],
   "source": []
  }
 ],
 "metadata": {
  "kernelspec": {
   "display_name": "Python 2",
   "language": "python",
   "name": "python2"
  },
  "language_info": {
   "codemirror_mode": {
    "name": "ipython",
    "version": 2
   },
   "file_extension": ".py",
   "mimetype": "text/x-python",
   "name": "python",
   "nbconvert_exporter": "python",
   "pygments_lexer": "ipython2",
   "version": "2.7.10"
  }
 },
 "nbformat": 4,
 "nbformat_minor": 0
}
